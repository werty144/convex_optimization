{
  "nbformat": 4,
  "nbformat_minor": 0,
  "metadata": {
    "colab": {
      "name": "HW4.ipynb",
      "provenance": [],
      "collapsed_sections": []
    },
    "kernelspec": {
      "name": "python3",
      "display_name": "Python 3"
    }
  },
  "cells": [
    {
      "cell_type": "code",
      "metadata": {
        "id": "3uPvgcHekjhT"
      },
      "source": [
        "import numpy as np\n",
        "import cvxpy as cp\n",
        "from cvxpy import *\n",
        "import pylab\n",
        "from itertools import combinations"
      ],
      "execution_count": 84,
      "outputs": []
    },
    {
      "cell_type": "code",
      "metadata": {
        "id": "W8MK4T-rk8Ng"
      },
      "source": [
        "def FloorPlanningFixedRectangles(heights, widths, relative_order, p = 0.1):\n",
        "    n = len(heights)\n",
        "    assert(len(widths) == n)\n",
        "    W = cp.Variable(1)\n",
        "    H = cp.Variable(1)\n",
        "    X = cp.Variable(n)\n",
        "    Y = cp.Variable(n)\n",
        "    constraints = []\n",
        "    for i in range(n):\n",
        "        constraints.extend([X[i] >= 0, Y[i] >= 0, X[i] + widths[i] <= W, Y[i] + heights[i] <= H])\n",
        "    for i, j, t in relative_order:\n",
        "        if t == 0:\n",
        "            constraints.append(X[i] + widths[i] + p <= X[j])\n",
        "        else:\n",
        "            constraints.append(Y[i] + heights[i] + p <= Y[j])\n",
        "    objective = cp.Minimize((W + H) * 2) # optimizing perimetr\n",
        "    prob = cp.Problem(objective, constraints)\n",
        "    result = prob.solve()\n",
        "    return X.value, Y.value, W.value, H.value"
      ],
      "execution_count": 90,
      "outputs": []
    },
    {
      "cell_type": "code",
      "metadata": {
        "colab": {
          "base_uri": "https://localhost:8080/"
        },
        "id": "QmGr3uzelphe",
        "outputId": "6b394173-ebd7-45a3-fc0a-913550c02c16"
      },
      "source": [
        "print(FloorPlanningFixedRectangles([1, 1], [1, 1], [[0, 1, 0]]))"
      ],
      "execution_count": 91,
      "outputs": [
        {
          "output_type": "stream",
          "text": [
            "(array([-7.77829747e-11,  1.10000000e+00]), array([2.39223869e-11, 2.39224023e-11]), array([2.1]), array([1.]))\n"
          ],
          "name": "stdout"
        }
      ]
    },
    {
      "cell_type": "code",
      "metadata": {
        "id": "OFne-esSarUq"
      },
      "source": [
        "def FloorPlanningFixedMinArea(areas, aspect_ratios, relative_order, p = 0.1):\n",
        "    n = len(areas)\n",
        "    assert(len(aspect_ratios) == n)\n",
        "    W = cp.Variable(1)\n",
        "    H = cp.Variable(1)\n",
        "    heights = cp.Variable(n)\n",
        "    widths = cp.Variable(n)\n",
        "    X = cp.Variable(n)\n",
        "    Y = cp.Variable(n)\n",
        "    constraints = []\n",
        "    for i in range(n): \n",
        "        constraints.extend([X[i] >= 0, Y[i] >= 0, X[i] + widths[i] <= W, Y[i] + heights[i] <= H, widths[i] >= 0, heights[i] >= 0])\n",
        "        constraints.extend([heights[i] >= aspect_ratios[i][0] * widths[i], heights[i] <= aspect_ratios[i][1] * widths[i]]) # li <= hi / wi <= ri\n",
        "        constraints.append(geo_mean(vstack([widths[i], heights[i]])) >= np.sqrt(areas[i])) # wi * hi >= area_i\n",
        "    for i, j, t in relative_order:\n",
        "        if t == 0:\n",
        "            constraints.append(X[i] + widths[i] + p <= X[j])\n",
        "        else:\n",
        "            constraints.append(Y[i] + heights[i] + p <= Y[j])\n",
        "    objective = cp.Minimize((W + H) * 2) # optimizing perimetr\n",
        "    prob = cp.Problem(objective, constraints)\n",
        "    result = prob.solve()\n",
        "    return X.value, Y.value, widths.value, heights.value, W.value, H.value"
      ],
      "execution_count": 92,
      "outputs": []
    },
    {
      "cell_type": "code",
      "metadata": {
        "colab": {
          "base_uri": "https://localhost:8080/"
        },
        "id": "warivKOwat4B",
        "outputId": "e532aeca-e888-4341-de92-e0aa597eddaa"
      },
      "source": [
        "print(FloorPlanningFixedMinArea([1, 1], [[1, 1], [1, 1]], [[0, 1, 0]]))"
      ],
      "execution_count": 93,
      "outputs": [
        {
          "output_type": "stream",
          "text": [
            "(array([-1.57415032e-12,  1.10000000e+00]), array([2.33904193e-11, 2.33898949e-11]), array([1., 1.]), array([1., 1.]), array([2.1]), array([1.]))\n"
          ],
          "name": "stdout"
        }
      ]
    },
    {
      "cell_type": "code",
      "metadata": {
        "id": "97-BNlykmKtD",
        "colab": {
          "base_uri": "https://localhost:8080/",
          "height": 252
        },
        "outputId": "bc3f2182-0275-486b-fdd5-22401aa8203f"
      },
      "source": [
        "import matplotlib.pyplot as plt\n",
        "import matplotlib.patches as patches\n",
        "\n",
        "def show(X, Y, widths, height, W, H):\n",
        "    pylab.figure(facecolor='w')\n",
        "    for i in range(len(X)):\n",
        "        pylab.fill([X[i], X[i], X[i] + widths[i], X[i] + widths[i]],\n",
        "                    [Y[i], Y[i]+height[i], Y[i]+height[i], Y[i]],\n",
        "                    facecolor = '#D0D0D0')\n",
        "        pylab.text(X[i]+.5*widths[i], Y[i]+.5*height[i], \"%d\" %(i+1))\n",
        "\n",
        "    pylab.axis([0, W, 0, H])\n",
        "    pylab.xticks([])\n",
        "    pylab.yticks([])\n",
        "\n",
        "    pylab.show()\n",
        "\n",
        "\n",
        "areas = [180, 80, 80, 80, 80]\n",
        "aspect_ratios = [[1/5, 5] for i in range(5)]\n",
        "relative_order = [[0, 2, 0], [2, 4, 0], [1, 2, 0], [3, 4, 0], [1, 0, 1], [0, 3, 1], [2, 3, 1]]\n",
        "X, Y, widths, heights, W, H = FloorPlanningFixedMinArea(areas, aspect_ratios, relative_order)\n",
        "# print(X)\n",
        "show(X, Y, widths, heights, W, H)"
      ],
      "execution_count": 94,
      "outputs": [
        {
          "output_type": "display_data",
          "data": {
            "image/png": "[encoded data removed]",
            "text/plain": [
              "<Figure size 432x288 with 1 Axes>"
            ]
          },
          "metadata": {
            "tags": []
          }
        }
      ]
    },
    {
      "cell_type": "code",
      "metadata": {
        "id": "O67oSTsefgrz"
      },
      "source": [
        ""
      ],
      "execution_count": null,
      "outputs": []
    }
  ]
}