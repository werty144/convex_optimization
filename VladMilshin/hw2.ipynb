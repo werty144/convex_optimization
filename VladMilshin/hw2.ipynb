{
  "nbformat": 4,
  "nbformat_minor": 0,
  "metadata": {
    "colab": {
      "name": "Untitled1.ipynb",
      "provenance": [],
      "collapsed_sections": []
    },
    "kernelspec": {
      "name": "python3",
      "display_name": "Python 3"
    }
  },
  "cells": [
    {
      "cell_type": "code",
      "metadata": {
        "id": "vVcUjADwCthp"
      },
      "source": [
        "import numpy as np\n",
        "\n",
        "class CompressedMatrix:\n",
        "    __array_priority__ = 1\n",
        "    n, m = 0, 0 # rows count and columns count\n",
        "    Matrix = [] # array of tuples (i, j, a_ij)\n",
        "    Columns = [] \n",
        "\n",
        "    def __init__(self, n, m, matrix):\n",
        "        self.n = n\n",
        "        self.m = m\n",
        "        self.Matrix = matrix\n",
        "        self.Columns = [[] for i in range(self.m)]\n",
        "        for i, j, a in self.Matrix:\n",
        "            self.Columns[j].append([i, a])\n",
        "\n",
        "    def __matmul__(self, other):\n",
        "        if self.m != other.shape[0]:\n",
        "            raise Exception('Exception')\n",
        "        res = np.zeros(self.n)\n",
        "        for i, j, a in self.Matrix:\n",
        "            res[i] += a * other[j]\n",
        "        return res\n",
        "\n",
        "    def __rmatmul__(self, other):\n",
        "        if self.n != other.shape[0]:\n",
        "            raise Exception('Exception')\n",
        "        res = np.zeros(self.m)\n",
        "        for i, j, a in self.Matrix:\n",
        "            res[j] += other[i] * a\n",
        "        return res\n",
        "    \n",
        "    def Transposed(self):\n",
        "        return CompressedMatrix(self.m, self.n, [[j, i, a] for i, j, a in self.Matrix])\n",
        "      \n",
        "    def __mul__(self, k):\n",
        "        return CompressedMatrix(self.n, self.m, [[i, j, a * k] for i, j, a in self.Matrix])\n",
        "\n",
        "    def multiplyRowByColumn(self, row, k):\n",
        "        res = 0\n",
        "        for [i, a] in self.Columns[k]:\n",
        "            res += a * row[i]\n",
        "        return res"
      ],
      "execution_count": 69,
      "outputs": []
    },
    {
      "cell_type": "code",
      "metadata": {
        "id": "VSLorlFKBpL2",
        "outputId": "3a68da67-037d-46d8-f6ef-59beb71fb8d4",
        "colab": {
          "base_uri": "https://localhost:8080/",
          "height": 85
        }
      },
      "source": [
        "A = CompressedMatrix(2, 3, [[0, 1, 1], [1, 2, 2]])\n",
        "B = np.array([1, 2, 3])\n",
        "C = np.array([2, 3])\n",
        "print(A @ B)\n",
        "print(C @ A)\n",
        "print(A.Transposed().Matrix)\n",
        "print((A * 2).Matrix)"
      ],
      "execution_count": 70,
      "outputs": [
        {
          "output_type": "stream",
          "text": [
            "[2. 6.]\n",
            "[0. 2. 6.]\n",
            "[[1, 0, 1], [2, 1, 2]]\n",
            "[[0, 1, 2], [1, 2, 4]]\n"
          ],
          "name": "stdout"
        }
      ]
    },
    {
      "cell_type": "code",
      "metadata": {
        "id": "ofDidcgLRZIZ"
      },
      "source": [
        "def ConjugateGradient(A, b):\n",
        "    x = np.zeros(A.m)\n",
        "    At = A.Transposed()\n",
        "    b = At @ b\n",
        "    v = (At @ (A @ x) - b)\n",
        "    d = v\n",
        "    v_norm = np.dot(v, v)\n",
        "    \n",
        "    for i in range(len(b)):\n",
        "        Ad = At @ (A @ d)\n",
        "        alpha = v_norm / (d @ Ad)\n",
        "        x = x - alpha * d\n",
        "        v = v - alpha * Ad\n",
        "        v_norm_new = np.dot(v, v)\n",
        "\n",
        "        d = v + (v_norm_new / v_norm) * d\n",
        "        v_norm = v_norm_new\n",
        "    return x"
      ],
      "execution_count": 71,
      "outputs": []
    },
    {
      "cell_type": "code",
      "metadata": {
        "id": "CEcvF1luRfdT"
      },
      "source": [
        "import cvxpy as cp\n",
        "\n",
        "def TrueSolution(A, b):\n",
        "    x = cp.Variable(A.shape[1])\n",
        "    cp.Problem(cp.Minimize(cp.sum_squares(A @ x - b)), []).solve()\n",
        "    return x.value\n",
        "\n",
        "n, m = 5, 5\n",
        "\n",
        "for i in range(10):\n",
        "    A = np.random.rand(n, m)\n",
        "    b = np.random.rand(n)\n",
        "\n",
        "    data = []\n",
        "    for i in range(n):\n",
        "        for j in range(m):\n",
        "            data.append([i, j, A[i][j]])\n",
        "\n",
        "\n",
        "    myRes = ConjugateGradient(CompressedMatrix(n, m, data), b)\n",
        "    trueRes = TrueSolution(A, b)\n",
        "    for i in range(m):\n",
        "        assert(abs(myRes[i] - trueRes[i]) < 1e-5)"
      ],
      "execution_count": 72,
      "outputs": []
    }
  ]
}