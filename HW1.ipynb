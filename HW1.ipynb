{
 "cells": [
  {
   "cell_type": "markdown",
   "metadata": {},
   "source": [
    "## Посчитать a^{1/k}"
   ]
  },
  {
   "cell_type": "code",
   "execution_count": 39,
   "metadata": {},
   "outputs": [
    {
     "name": "stdout",
     "output_type": "stream",
     "text": [
      "4.999999999999999\n",
      "0.49999999999999994\n"
     ]
    }
   ],
   "source": [
    "def root_binsection(a, k):\n",
    "    l = 0\n",
    "    r = a + 1\n",
    "    for i in range(100):\n",
    "        m = (l + r) / 2\n",
    "        if m ** k >= a:\n",
    "            r = m\n",
    "        else:\n",
    "            l = m\n",
    "    return l\n",
    "\n",
    "print(root_binsection(125, 3))\n",
    "print(root_binsection(0.125, 3))"
   ]
  },
  {
   "cell_type": "code",
   "execution_count": 40,
   "metadata": {},
   "outputs": [
    {
     "name": "stdout",
     "output_type": "stream",
     "text": [
      "5.0\n",
      "0.5\n"
     ]
    }
   ],
   "source": [
    "def root_newton(a, k):\n",
    "    x = a + 1\n",
    "    for i in range(100):\n",
    "        x = x - (x**k - a) / (k * x**(k - 1))\n",
    "    return x\n",
    "\n",
    "print(root_newton(125, 3))\n",
    "print(root_newton(0.125, 3))"
   ]
  },
  {
   "cell_type": "markdown",
   "metadata": {},
   "source": [
    "## Про многочлен \n",
    "\n",
    "У многочлен имеет вид x**i * p[i]"
   ]
  },
  {
   "cell_type": "code",
   "execution_count": 41,
   "metadata": {},
   "outputs": [
    {
     "name": "stdout",
     "output_type": "stream",
     "text": [
      "[2, 6]\n",
      "17\n",
      "-1 1\n",
      "2 0\n"
     ]
    }
   ],
   "source": [
    "eps = 1e-7\n",
    "\n",
    "def derivative(poly):\n",
    "    return [(i + 1) * c for i, c in enumerate(poly[1:])]\n",
    "\n",
    "def at(x, poly):\n",
    "    res = 0\n",
    "    for i, c in enumerate(poly):\n",
    "        res += c * x**i\n",
    "    return res\n",
    "\n",
    "def sign(val):\n",
    "    return 1 if val > 0 else -1\n",
    "\n",
    "def normalize(poly):\n",
    "    while len(poly) > 0 and poly[-1] == 0:\n",
    "        poly.pop()\n",
    "    return poly\n",
    "\n",
    "def zero(val):\n",
    "    return abs(val) < eps\n",
    "\n",
    "print(derivative([1, 2, 3]))\n",
    "print(at(2, [1, 2, 3]))\n",
    "print(sign(-7), sign(7))\n",
    "print(len(normalize([1, 2, 0, 0, 0])), len(normalize([0, 0, 0])))"
   ]
  },
  {
   "cell_type": "code",
   "execution_count": 42,
   "metadata": {},
   "outputs": [
    {
     "name": "stdout",
     "output_type": "stream",
     "text": [
      "[[-2, 0.0], [0.0, 2]]\n",
      "[-1.0000000000000002, 1.0]\n"
     ]
    }
   ],
   "source": [
    "def roots(poly, l, r):\n",
    "    poly = normalize(poly)\n",
    "    assert(len(poly) > 0)\n",
    "    if len(poly) == 1:\n",
    "        return []\n",
    "    if len(poly) == 2:\n",
    "        return [-poly[0] / poly[1]]\n",
    "    res = []\n",
    "    for l, r in localize(poly, l, r):\n",
    "        for i in range(100):\n",
    "            m = (l + r) / 2\n",
    "            if sign(at(m, poly)) == sign(at(l, poly)):\n",
    "                l = m\n",
    "            else:\n",
    "                r = m\n",
    "        res.append(l)\n",
    "    return res\n",
    "    \n",
    "\n",
    "def localize(poly, l, r):\n",
    "    poly = normalize(poly)\n",
    "    assert(len(poly) > 0)\n",
    "    if zero(at(l, poly)):\n",
    "        l -= eps\n",
    "    if zero(at(r, poly)):\n",
    "        l += eps\n",
    "    deri_roots = roots(derivative(poly), l, r) + [r]\n",
    "    s = [l]\n",
    "    for x in deri_roots:\n",
    "        if sign(at(s[-1], poly)) != sign(at(x, poly)):\n",
    "            s.append(x)\n",
    "    return [[s[i], s[i + 1]] for i in range(len(s) - 1)]\n",
    "\n",
    "print(localize([-1, 0, 1], -2, 2)) # x^2 - 1, L = -2, R = 2\n",
    "print(roots([-1, 0, 1], -2, 2)) # x^2 - 1, L = -2, R = 2"
   ]
  },
  {
   "cell_type": "code",
   "execution_count": 43,
   "metadata": {},
   "outputs": [
    {
     "name": "stdout",
     "output_type": "stream",
     "text": [
      "1.0\n",
      "-2.0\n"
     ]
    }
   ],
   "source": [
    "def get_min(poly, l, r):\n",
    "    res = min(at(l, poly), at(r, poly))\n",
    "    for r in roots(derivative(poly), l, r):\n",
    "        res = min(res, at(r, poly))\n",
    "    return res\n",
    "\n",
    "print(get_min([1, 0, 1], -2, 2))\n",
    "print(get_min([-1, 2, 1], -2, 2))"
   ]
  },
  {
   "cell_type": "markdown",
   "metadata": {},
   "source": [
    "## Найти минимум e^{ax} + e^{-bx} + c(x - d)^2"
   ]
  },
  {
   "cell_type": "code",
   "execution_count": 56,
   "metadata": {},
   "outputs": [],
   "source": [
    "# from math import exp\n",
    "from random import uniform\n",
    "\n",
    "def f(x, a, b, c, d):\n",
    "    return exp(a * x) + exp(-b * x) + c * (x - d)**2\n",
    "\n",
    "def df(x, a, b, c, d):\n",
    "    return a * exp(a * x) - b * exp(-b * x) + 2 * c * (x - d)\n",
    "\n",
    "def ddf(x, a, b, c, d):\n",
    "    return a**2 * exp(a * x) + b**2 * exp(-b * x) + 2 * c\n",
    "\n",
    "\n",
    "def true_min(a, b, c, d, l = -20, r = 20, part = 10**5):\n",
    "    res = f(0, a, b, c, d)\n",
    "    for i in range(part):\n",
    "        x = (r - l) / part * i + l\n",
    "        res = min(res, f(x, a, b, c, d))\n",
    "    return res\n",
    "\n",
    "def min_bisection(a, b, c, d):\n",
    "    bound = 1\n",
    "    mini = f(d, a, b, c, d)\n",
    "    while exp(bound * a) < mini or exp(bound * b) < mini:\n",
    "        bound *= 2\n",
    "    l = -bound\n",
    "    r = bound\n",
    "    for i in range(100):\n",
    "        m = (l + r) / 2\n",
    "        if df(m, a, b, c, d) < 0:\n",
    "            l = m\n",
    "        else:\n",
    "            r = m\n",
    "    return f(l, a, b, c, d)\n",
    "\n",
    "def min_newton(a, b, c, d):\n",
    "    x = d\n",
    "    for i in range(100):\n",
    "        x = x - df(x, a, b, c, d) / ddf(x, a, b, c, d)\n",
    "    return f(x, a, b, c, d)\n",
    "\n",
    "def min_ternary(a, b, c, d):\n",
    "    bound = 1\n",
    "    mini = f(d, a, b, c, d)\n",
    "    while exp(bound * a) < mini or exp(bound * b) < mini:\n",
    "        bound *= 2\n",
    "    l = -bound\n",
    "    r = bound\n",
    "    for i in range(100):\n",
    "        m1 = l + (r - l) / 3\n",
    "        m2 = r - (r - l) / 3\n",
    "        if f(m1, a, b, c, d) < f(m2, a, b, c, d):\n",
    "            r = m2\n",
    "        else:\n",
    "            l = m1\n",
    "    return f(l, a, b, c, d)\n",
    "\n",
    "for i in range(5):\n",
    "    a = uniform(0, 5)\n",
    "    b = uniform(0, 5)\n",
    "    c = uniform(0, 5)\n",
    "    d = uniform(0, 10)\n",
    "    real_min = true_min(a, b, c, d)\n",
    "    min_bis = min_bisection(a, b, c, d)\n",
    "    min_new = min_newton(a, b, c, d)\n",
    "    min_ter = min_ternary(a, b, c, d)\n",
    "    assert(abs(real_min - min_bis) < 1e-2)\n",
    "    assert(abs(real_min - min_new) < 1e-2)\n",
    "    assert(abs(real_min - min_ter) < 1e-2)\n",
    "    "
   ]
  },
  {
   "cell_type": "code",
   "execution_count": null,
   "metadata": {},
   "outputs": [],
   "source": []
  }
 ],
 "metadata": {
  "kernelspec": {
   "display_name": "Python 3",
   "language": "python",
   "name": "python3"
  },
  "language_info": {
   "codemirror_mode": {
    "name": "ipython",
    "version": 3
   },
   "file_extension": ".py",
   "mimetype": "text/x-python",
   "name": "python",
   "nbconvert_exporter": "python",
   "pygments_lexer": "ipython3",
   "version": "3.7.7"
  }
 },
 "nbformat": 4,
 "nbformat_minor": 2
}
